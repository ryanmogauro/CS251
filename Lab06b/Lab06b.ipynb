{
 "cells": [
  {
   "attachments": {},
   "cell_type": "markdown",
   "metadata": {},
   "source": [
    "**Ryan Mogauro**\n",
    "\n",
    "Spring 2022\n",
    "\n",
    "CS 251: Data Analysis and Visualization"
   ]
  },
  {
   "cell_type": "markdown",
   "metadata": {},
   "source": [
    "# Lab 6B: Naive Bayes and K-Nearest Neighbor\n",
    "\n",
    "In this lab we will be using the library scikit-learn to train a Gaussian Naive Bayes classifier and graph the results."
   ]
  },
  {
   "cell_type": "code",
   "execution_count": 27,
   "metadata": {},
   "outputs": [
    {
     "name": "stdout",
     "output_type": "stream",
     "text": [
      "The autoreload extension is already loaded. To reload it, use:\n",
      "  %reload_ext autoreload\n"
     ]
    },
    {
     "name": "stderr",
     "output_type": "stream",
     "text": [
      "<ipython-input-27-c73fe6f0aaa6>:9: MatplotlibDeprecationWarning: The seaborn styles shipped by Matplotlib are deprecated since 3.6, as they no longer correspond to the styles shipped by seaborn. However, they will remain available as 'seaborn-v0_8-<style>'. Alternatively, directly use the seaborn API instead.\n",
      "  plt.style.use(['seaborn-colorblind', 'seaborn-darkgrid'])\n",
      "<ipython-input-27-c73fe6f0aaa6>:9: MatplotlibDeprecationWarning: The seaborn styles shipped by Matplotlib are deprecated since 3.6, as they no longer correspond to the styles shipped by seaborn. However, they will remain available as 'seaborn-v0_8-<style>'. Alternatively, directly use the seaborn API instead.\n",
      "  plt.style.use(['seaborn-colorblind', 'seaborn-darkgrid'])\n"
     ]
    }
   ],
   "source": [
    "import numpy as np\n",
    "import matplotlib.pyplot as plt\n",
    "import pandas as pd\n",
    "from sklearn import datasets, preprocessing, model_selection, decomposition\n",
    "from sklearn.model_selection import train_test_split\n",
    "from sklearn import neighbors, naive_bayes, metrics\n",
    "import matplotlib.pyplot as plt\n",
    "\n",
    "plt.style.use(['seaborn-colorblind', 'seaborn-darkgrid'])\n",
    "plt.rcParams.update({'font.size': 20})\n",
    "\n",
    "np.set_printoptions(suppress=True, precision=5)\n",
    "\n",
    "# Automatically reload external modules\n",
    "%load_ext autoreload\n",
    "%autoreload 2"
   ]
  },
  {
   "cell_type": "markdown",
   "metadata": {},
   "source": [
    "## Task 1: Load the digits dataset\n",
    "\n",
    "We're going to be seeing if we can use Naive Bayes and K-Nearest Neighbor to classify hand writing data.  The [digits dataset](https://scikit-learn.org/stable/auto_examples/datasets/plot_digits_last_image.html) is a set of 1797 8x8 pixel images, representing handwriting samples of the numbers 0-9.  This is just a small sample of the [MNIST handwriting dataset](http://yann.lecun.com/exdb/mnist/).\n",
    "\n",
    "1. Load the [digits dataset](https://scikit-learn.org/stable/modules/generated/sklearn.datasets.load_digits.html). Use the `return_X_y` parameter so that it returns both the X data and y classifications.\n",
    "2. Use [train test split](https://scikit-learn.org/stable/modules/generated/sklearn.model_selection.train_test_split.html) to split the X data and y classifications, into an X_training dataset, X_testing dataset and the corresponding y_training labels and y_testing labels.  Set the test size be .3 and shuffle to True.\n",
    "4. Print the shape of X_training, X_testing, y_training, and y_testing."
   ]
  },
  {
   "cell_type": "code",
   "execution_count": 28,
   "metadata": {},
   "outputs": [
    {
     "name": "stdout",
     "output_type": "stream",
     "text": [
      "X training data shape: (1257, 64)\n",
      "X testing data shape: (540, 64)\n",
      "Y training data shape: (1257,)\n",
      "Y testing data shape: (540,)\n",
      "Expected output\n",
      "\n",
      "X training data shape:  (1257, 64)\n",
      "X testing data shape:   (540, 64)\n",
      "y training labels shape:(1257,)\n",
      "y testing labels shape: (540,)\n",
      "\n"
     ]
    }
   ],
   "source": [
    "np.random.seed(42)\n",
    "\n",
    "digits = datasets.load_digits(return_X_y=True)\n",
    "X_train, X_test, y_train, y_test = train_test_split(digits[0], digits[1], test_size=0.3, shuffle=True)\n",
    "\n",
    "print(\"X training data shape: \" + str(X_train.shape))\n",
    "print(\"X testing data shape: \" + str(X_test.shape))\n",
    "print(\"Y training data shape: \" + str(y_train.shape))\n",
    "print(\"Y testing data shape: \" + str(y_test.shape))\n",
    "\n",
    "print( \"Expected output\")\n",
    "print('''\n",
    "X training data shape:  (1257, 64)\n",
    "X testing data shape:   (540, 64)\n",
    "y training labels shape:(1257,)\n",
    "y testing labels shape: (540,)\n",
    "''')"
   ]
  },
  {
   "cell_type": "markdown",
   "metadata": {},
   "source": [
    "## Task 2: Create Classifiers and Calculate Accuracy\n",
    "\n",
    "### Create a Naive Bayes Classifier\n",
    "1. Create a [Gaussian Naive Bayes Classifier](https://scikit-learn.org/stable/modules/generated/sklearn.naive_bayes.GaussianNB.html#sklearn.naive_bayes.GaussianNB) [(More Info)](https://scikit-learn.org/stable/modules/naive_bayes.html#naive-bayes). \n",
    "2. Use the fit method with the training dataset as X and the y training dataset labels as the target.\n",
    "3. Calculate the accuracy of the classifier with the test data and test dataset labels using the score method.\n",
    "4. Print the accuracy of the Naive Bayes classifier.\n",
    "\n",
    "### Create a K-NN Classifier\n",
    "1. Using the lab from last week as reference, create a [K-Nearest Neighbors Classifier](https://scikit-learn.org/stable/modules/generated/sklearn.neighbors.KNeighborsClassifier.html) [(More Info)](https://scikit-learn.org/stable/modules/neighbors.html#classification).  Set n_neighbors equal to 7.\n",
    "1. Assign your classifier to a variable with a **different** name than your Naive Bayes classifier.  \n",
    "2. Use the fit method with the training dataset as X and the y training dataset labels as the target.\n",
    "3. Calculate the accuracy of the classifier with the test data and test dataset labels using the score method.\n",
    "4. Print the accuracy of the K-NN classifier.\n"
   ]
  },
  {
   "cell_type": "code",
   "execution_count": 31,
   "metadata": {},
   "outputs": [
    {
     "name": "stdout",
     "output_type": "stream",
     "text": [
      "Bayes model accuracy: 0.8518518518518519\n",
      "KNN Accuracy: 0.9907407407407407\n",
      "Expected output\n",
      "\n",
      "Gaussian Naive Bayes Classifier Accuracy: 0.85185...\n",
      "K-Nearest Neighbor Classifier Accuracy:   0.99074...\n",
      "\n"
     ]
    }
   ],
   "source": [
    "# Bayes model\n",
    "bayes_model = naive_bayes.GaussianNB()\n",
    "bayes_model.fit(X_train, y_train)\n",
    "print(\"Bayes model accuracy: \" + str(bayes_model.score(X_test, y_test)))\n",
    "\n",
    "#KNN classifier\n",
    "from sklearn.neighbors import KNeighborsClassifier\n",
    "knn_classifier = KNeighborsClassifier(n_neighbors=7)\n",
    "knn_classifier.fit(X_train, y_train)\n",
    "print(\"KNN Accuracy: \" + str(knn_classifier.score(X_test, y_test)))\n",
    "\n",
    "print( \"Expected output\")\n",
    "print('''\n",
    "Gaussian Naive Bayes Classifier Accuracy: 0.85185...\n",
    "K-Nearest Neighbor Classifier Accuracy:   0.99074...\n",
    "''')"
   ]
  },
  {
   "cell_type": "markdown",
   "metadata": {},
   "source": [
    "## Task 3: Create a confusion matrix for each classifier\n",
    "\n",
    "1. Find the predicted labels for the X test data using the predict method for the Naive Bayes classifier and K-NN classifier.\n",
    "1. Create a [confusion matrix](https://scikit-learn.org/stable/modules/generated/sklearn.metrics.confusion_matrix.html) for each classifier, using the predicted labels and actual labels.  \n",
    "1. Print the confusion matrices, along with some indication that the rows indicate the number of points that truly have a given label and that the columns indicate the number of points predicted to have that label.\n",
    "2. Visualize the confusion matrices using imshow. For reference, use Lab 4a and this [matplotlib example](https://matplotlib.org/3.1.1/gallery/images_contours_and_fields/image_annotated_heatmap.html) of an annotated heatmap.\n",
    "    1. Set x_ticks and y_ticks to align with the list of digits.\n",
    "    2. Use imshow to draw the matrix\n",
    "    3. Choose a perceptually uniform [colormap](https://matplotlib.org/tutorials/colors/colormaps.html)\n",
    "    3. Use a colorbar to label the matrix\n",
    "    4. Remember to call `plt.show()` at the end, or other plots later might not work.\n",
    "    5. Give your plot a meaningful title.\n",
    "    \n",
    "#### Review Question: Which digits are most likely to be misclassified and what are they most likely to be misclassified as?"
   ]
  },
  {
   "cell_type": "code",
   "execution_count": 35,
   "metadata": {},
   "outputs": [
    {
     "name": "stdout",
     "output_type": "stream",
     "text": [
      "-Nearest Neighbor Confusion Matrix\n",
      "[[53  0  0  0  0  0  0  0  0  0]\n",
      " [ 0 50  0  0  0  0  0  0  0  0]\n",
      " [ 0  0 47  0  0  0  0  0  0  0]\n",
      " [ 0  0  0 54  0  0  0  0  0  0]\n",
      " [ 0  0  0  0 60  0  0  0  0  0]\n",
      " [ 0  0  0  0  0 64  1  0  0  1]\n",
      " [ 0  0  0  0  0  0 53  0  0  0]\n",
      " [ 0  0  0  0  0  0  0 55  0  0]\n",
      " [ 0  0  0  0  0  0  0  0 43  0]\n",
      " [ 0  0  0  1  1  1  0  0  0 56]]\n",
      "Gaussian Naive Bayes Confusion Matrix\n",
      "[[52  0  0  0  0  0  0  1  0  0]\n",
      " [ 0 37  2  0  0  0  0  2  6  3]\n",
      " [ 0  3 31  0  0  0  1  0 12  0]\n",
      " [ 0  0  2 41  0  0  1  0  8  2]\n",
      " [ 0  0  0  0 51  0  2  7  0  0]\n",
      " [ 0  0  0  1  0 62  1  2  0  0]\n",
      " [ 0  0  0  0  1  1 51  0  0  0]\n",
      " [ 0  0  0  0  0  1  0 54  0  0]\n",
      " [ 0  2  0  0  0  0  0  2 39  0]\n",
      " [ 0  1  1  1  0  2  1  7  4 42]]\n",
      "Expected output (rows indicate true class count, columns indicate predicted class count)\n",
      "\n",
      "K-Nearest Neighbor Confusion Matrix\n",
      " [[53  0  0  0  0  0  0  0  0  0]\n",
      " [ 0 50  0  0  0  0  0  0  0  0]\n",
      " [ 0  0 47  0  0  0  0  0  0  0]\n",
      " [ 0  0  0 54  0  0  0  0  0  0]\n",
      " [ 0  0  0  0 60  0  0  0  0  0]\n",
      " [ 0  0  0  0  0 64  1  0  0  1]\n",
      " [ 0  0  0  0  0  0 53  0  0  0]\n",
      " [ 0  0  0  0  0  0  0 55  0  0]\n",
      " [ 0  0  0  0  0  0  0  0 43  0]\n",
      " [ 0  0  0  1  1  1  0  0  0 56]]\n",
      " Gaussian Naive Bayes Confusion Matrix\n",
      "[[52  0  0  0  0  0  0  1  0  0]\n",
      " [ 0 37  2  0  0  0  0  2  6  3]\n",
      " [ 0  3 31  0  0  0  1  0 12  0]\n",
      " [ 0  0  2 41  0  0  1  0  8  2]\n",
      " [ 0  0  0  0 51  0  2  7  0  0]\n",
      " [ 0  0  0  1  0 62  1  2  0  0]\n",
      " [ 0  0  0  0  1  1 51  0  0  0]\n",
      " [ 0  0  0  0  0  1  0 54  0  0]\n",
      " [ 0  2  0  0  0  0  0  2 39  0]\n",
      " [ 0  1  1  1  0  2  1  7  4 42]]\n",
      "\n"
     ]
    }
   ],
   "source": [
    "# fitting KNN and Bayes model\n",
    "knn_confusion = metrics.confusion_matrix(y_test,knn_classifier.predict(X_test))\n",
    "print(\"K-Nearest Neighbor Confusion Matrix\" + \"\\n\" + str(knn_confusion))\n",
    "naive_confusion = metrics.confusion_matrix(y_test, bayes_model.predict(X_test))\n",
    "print(\"Gaussian Naive Bayes Confusion Matrix\" + \"\\n\" + str(naive_confusion))\n",
    "\n",
    "\n",
    "print(\"Expected output (rows indicate true class count, columns indicate predicted class count)\")\n",
    "print('''\n",
    "K-Nearest Neighbor Confusion Matrix\n",
    " [[53  0  0  0  0  0  0  0  0  0]\n",
    " [ 0 50  0  0  0  0  0  0  0  0]\n",
    " [ 0  0 47  0  0  0  0  0  0  0]\n",
    " [ 0  0  0 54  0  0  0  0  0  0]\n",
    " [ 0  0  0  0 60  0  0  0  0  0]\n",
    " [ 0  0  0  0  0 64  1  0  0  1]\n",
    " [ 0  0  0  0  0  0 53  0  0  0]\n",
    " [ 0  0  0  0  0  0  0 55  0  0]\n",
    " [ 0  0  0  0  0  0  0  0 43  0]\n",
    " [ 0  0  0  1  1  1  0  0  0 56]]\n",
    " Gaussian Naive Bayes Confusion Matrix\n",
    "[[52  0  0  0  0  0  0  1  0  0]\n",
    " [ 0 37  2  0  0  0  0  2  6  3]\n",
    " [ 0  3 31  0  0  0  1  0 12  0]\n",
    " [ 0  0  2 41  0  0  1  0  8  2]\n",
    " [ 0  0  0  0 51  0  2  7  0  0]\n",
    " [ 0  0  0  1  0 62  1  2  0  0]\n",
    " [ 0  0  0  0  1  1 51  0  0  0]\n",
    " [ 0  0  0  0  0  1  0 54  0  0]\n",
    " [ 0  2  0  0  0  0  0  2 39  0]\n",
    " [ 0  1  1  1  0  2  1  7  4 42]]\n",
    "''')\n"
   ]
  },
  {
   "cell_type": "code",
   "execution_count": 46,
   "metadata": {},
   "outputs": [
    {
     "data": {
      "image/png": "[encoded data removed]",
      "text/plain": [
       "<Figure size 720x360 with 4 Axes>"
      ]
     },
     "metadata": {
      "needs_background": "light"
     },
     "output_type": "display_data"
    }
   ],
   "source": [
    "fig, (ax1, ax2) = plt.subplots(1, 2, figsize=(10, 5))\n",
    "\n",
    "#figure 1\n",
    "#bayes confusion matrix\n",
    "plot = ax1.imshow(naive_confusion,cmap=\"viridis\")\n",
    "cbar = fig.colorbar(plot, ax=ax1)\n",
    "ax1.set_title(\"Naive bayes classifier\")\n",
    "\n",
    "#figure 2\n",
    "#knn confusion matrix\n",
    "plot = ax2.imshow(knn_confusion,cmap=\"viridis\")\n",
    "cbar = fig.colorbar(plot, ax=ax2)\n",
    "ax2.set_title(\"KNN classifier\")\n",
    "\n",
    "plt.show()"
   ]
  }
 ],
 "metadata": {
  "kernelspec": {
   "display_name": "Python 3",
   "language": "python",
   "name": "python3"
  },
  "language_info": {
   "codemirror_mode": {
    "name": "ipython",
    "version": 3
   },
   "file_extension": ".py",
   "mimetype": "text/x-python",
   "name": "python",
   "nbconvert_exporter": "python",
   "pygments_lexer": "ipython3",
   "version": "3.8.8"
  }
 },
 "nbformat": 4,
 "nbformat_minor": 4
}
